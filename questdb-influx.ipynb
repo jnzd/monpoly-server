{
 "cells": [
  {
   "cell_type": "code",
   "execution_count": 3,
   "metadata": {},
   "outputs": [
    {
     "name": "stdout",
     "output_type": "stream",
     "text": [
      "Postgres connection is closed.\n"
     ]
    },
    {
     "ename": "OperationalError",
     "evalue": "connection to server at \"127.0.0.1\", port 8812 failed: server closed the connection unexpectedly\n\tThis probably means the server terminated abnormally\n\tbefore or while processing the request.\n",
     "output_type": "error",
     "traceback": [
      "\u001b[1;31m---------------------------------------------------------------------------\u001b[0m",
      "\u001b[1;31mOperationalError\u001b[0m                          Traceback (most recent call last)",
      "\u001b[1;32mc:\\Users\\jonas\\OneDrive\\documents\\eth\\bachelor\\bt\\monpoly-server\\questdb-influx.ipynb Cell 1\u001b[0m in \u001b[0;36m<module>\u001b[1;34m\u001b[0m\n\u001b[1;32m----> <a href='vscode-notebook-cell:/c%3A/Users/jonas/OneDrive/documents/eth/bachelor/bt/monpoly-server/questdb-influx.ipynb#W0sZmlsZQ%3D%3D?line=0'>1</a>\u001b[0m \u001b[39mfrom\u001b[39;00m \u001b[39mquestdb\u001b[39;00m\u001b[39m.\u001b[39;00m\u001b[39mingress\u001b[39;00m \u001b[39mimport\u001b[39;00m Sender, IngressError\n\u001b[0;32m      <a href='vscode-notebook-cell:/c%3A/Users/jonas/OneDrive/documents/eth/bachelor/bt/monpoly-server/questdb-influx.ipynb#W0sZmlsZQ%3D%3D?line=1'>2</a>\u001b[0m \u001b[39mimport\u001b[39;00m \u001b[39msys\u001b[39;00m\n\u001b[0;32m      <a href='vscode-notebook-cell:/c%3A/Users/jonas/OneDrive/documents/eth/bachelor/bt/monpoly-server/questdb-influx.ipynb#W0sZmlsZQ%3D%3D?line=2'>3</a>\u001b[0m \u001b[39mimport\u001b[39;00m \u001b[39mdatetime\u001b[39;00m\n",
      "File \u001b[1;32mc:\\Users\\jonas\\OneDrive\\documents\\eth\\bachelor\\bt\\monpoly-server\\questdb.py:7\u001b[0m, in \u001b[0;36m<module>\u001b[1;34m\u001b[0m\n\u001b[0;32m      5\u001b[0m cursor \u001b[39m=\u001b[39m \u001b[39mNone\u001b[39;00m\n\u001b[0;32m      6\u001b[0m \u001b[39mtry\u001b[39;00m:\n\u001b[1;32m----> 7\u001b[0m     connection \u001b[39m=\u001b[39m pg\u001b[39m.\u001b[39;49mconnect(\n\u001b[0;32m      8\u001b[0m         user\u001b[39m=\u001b[39;49m\u001b[39m'\u001b[39;49m\u001b[39madmin\u001b[39;49m\u001b[39m'\u001b[39;49m,\n\u001b[0;32m      9\u001b[0m         password\u001b[39m=\u001b[39;49m\u001b[39m'\u001b[39;49m\u001b[39mquest\u001b[39;49m\u001b[39m'\u001b[39;49m,\n\u001b[0;32m     10\u001b[0m         host\u001b[39m=\u001b[39;49m\u001b[39m'\u001b[39;49m\u001b[39m127.0.0.1\u001b[39;49m\u001b[39m'\u001b[39;49m,\n\u001b[0;32m     11\u001b[0m         port\u001b[39m=\u001b[39;49m\u001b[39m'\u001b[39;49m\u001b[39m8812\u001b[39;49m\u001b[39m'\u001b[39;49m,\n\u001b[0;32m     12\u001b[0m         database\u001b[39m=\u001b[39;49m\u001b[39m'\u001b[39;49m\u001b[39mqdb\u001b[39;49m\u001b[39m'\u001b[39;49m)\n\u001b[0;32m     13\u001b[0m     cursor \u001b[39m=\u001b[39m connection\u001b[39m.\u001b[39mcursor()\n\u001b[0;32m     15\u001b[0m     \u001b[39m# text-only query\u001b[39;00m\n",
      "File \u001b[1;32mc:\\Users\\jonas\\anaconda3\\envs\\monpoly\\lib\\site-packages\\psycopg2\\__init__.py:122\u001b[0m, in \u001b[0;36mconnect\u001b[1;34m(dsn, connection_factory, cursor_factory, **kwargs)\u001b[0m\n\u001b[0;32m    119\u001b[0m     kwasync[\u001b[39m'\u001b[39m\u001b[39masync_\u001b[39m\u001b[39m'\u001b[39m] \u001b[39m=\u001b[39m kwargs\u001b[39m.\u001b[39mpop(\u001b[39m'\u001b[39m\u001b[39masync_\u001b[39m\u001b[39m'\u001b[39m)\n\u001b[0;32m    121\u001b[0m dsn \u001b[39m=\u001b[39m _ext\u001b[39m.\u001b[39mmake_dsn(dsn, \u001b[39m*\u001b[39m\u001b[39m*\u001b[39mkwargs)\n\u001b[1;32m--> 122\u001b[0m conn \u001b[39m=\u001b[39m _connect(dsn, connection_factory\u001b[39m=\u001b[39mconnection_factory, \u001b[39m*\u001b[39m\u001b[39m*\u001b[39mkwasync)\n\u001b[0;32m    123\u001b[0m \u001b[39mif\u001b[39;00m cursor_factory \u001b[39mis\u001b[39;00m \u001b[39mnot\u001b[39;00m \u001b[39mNone\u001b[39;00m:\n\u001b[0;32m    124\u001b[0m     conn\u001b[39m.\u001b[39mcursor_factory \u001b[39m=\u001b[39m cursor_factory\n",
      "\u001b[1;31mOperationalError\u001b[0m: connection to server at \"127.0.0.1\", port 8812 failed: server closed the connection unexpectedly\n\tThis probably means the server terminated abnormally\n\tbefore or while processing the request.\n"
     ]
    }
   ],
   "source": [
    "from questdb.ingress import Sender, IngressError\n",
    "import sys\n",
    "import datetime\n",
    "\n",
    "\n",
    "def example(host: str = 'localhost', port: int = 9009):\n",
    "    try:\n",
    "        with Sender(host, port) as sender:\n",
    "            # Record with provided designated timestamp (using the 'at' param)\n",
    "            # Notice the designated timestamp is expected in Nanoseconds,\n",
    "            # but timestamps in other columns are expected in Microseconds. \n",
    "            # The API provides convenient functions\n",
    "            sender.row(\n",
    "                'trades',\n",
    "                symbols={\n",
    "                    'pair': 'USDGBP',\n",
    "                    'type': 'buy'},\n",
    "                columns={\n",
    "                    'traded_price': 0.83,\n",
    "                    'limit_price': 0.84,\n",
    "                    'qty': 100,\n",
    "                    'traded_ts': datetime.datetime(\n",
    "                        2022, 8, 6, 7, 35, 23, 189062,\n",
    "                        tzinfo=datetime.timezone.utc)},\n",
    "                at=datetime.datetime.utcnow())\n",
    "\n",
    "            # If no 'at' param is passed, the server will use its own timestamp.\n",
    "            sender.row(\n",
    "                'trades',\n",
    "                symbols={'pair': 'EURJPY'},\n",
    "                columns={\n",
    "                    'traded_price': 135.97,\n",
    "                    'qty': 400,\n",
    "                    'limit_price': None})  # NULL columns can be passed as None,\n",
    "                                           # or simply be left out.\n",
    "\n",
    "            # We recommend flushing periodically, for example every few seconds.\n",
    "            # If you don't flush explicitly, the client will flush automatically\n",
    "            # once the buffer is reaches 63KiB and just before the connection\n",
    "            # is closed.\n",
    "            sender.flush()\n",
    "\n",
    "    except IngressError as e:\n",
    "        sys.stderr.write(f'Got error: {e}\\n')\n",
    "\n",
    "\n",
    "if __name__ == '__main__':\n",
    "    example()"
   ]
  }
 ],
 "metadata": {
  "kernelspec": {
   "display_name": "Python 3.10.6 ('monpoly')",
   "language": "python",
   "name": "python3"
  },
  "language_info": {
   "codemirror_mode": {
    "name": "ipython",
    "version": 3
   },
   "file_extension": ".py",
   "mimetype": "text/x-python",
   "name": "python",
   "nbconvert_exporter": "python",
   "pygments_lexer": "ipython3",
   "version": "3.10.6"
  },
  "orig_nbformat": 4,
  "vscode": {
   "interpreter": {
    "hash": "ae9b8758a155686fbad77da8890543476bc6d908418f19364000fa6d50321a2a"
   }
  }
 },
 "nbformat": 4,
 "nbformat_minor": 2
}
