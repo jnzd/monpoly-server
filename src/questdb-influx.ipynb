{
 "cells": [
  {
   "cell_type": "code",
   "execution_count": 2,
   "metadata": {},
   "outputs": [],
   "source": [
    "from questdb.ingress import Sender, IngressError\n",
    "import sys\n",
    "import datetime\n",
    "\n",
    "\n",
    "def example(host: str = 'localhost', port: int = 9009):\n",
    "    try:\n",
    "        with Sender(host, port) as sender:\n",
    "            # Record with provided designated timestamp (using the 'at' param)\n",
    "            # Notice the designated timestamp is expected in Nanoseconds,\n",
    "            # but timestamps in other columns are expected in Microseconds. \n",
    "            # The API provides convenient functions\n",
    "            sender.row(\n",
    "                'trades',\n",
    "                symbols={\n",
    "                    'pair': 'USDGBP',\n",
    "                    'type': 'buy'},\n",
    "                columns={\n",
    "                    'traded_price': 0.83,\n",
    "                    'limit_price': 0.84,\n",
    "                    'qty': 100,\n",
    "                    'traded_ts': datetime.datetime(\n",
    "                        2022, 8, 6, 7, 35, 23, 189062,\n",
    "                        tzinfo=datetime.timezone.utc)},\n",
    "                at=datetime.datetime.utcnow())\n",
    "\n",
    "            # If no 'at' param is passed, the server will use its own timestamp.\n",
    "            sender.row(\n",
    "                'trades',\n",
    "                symbols={'pair': 'EURJPY'},\n",
    "                columns={\n",
    "                    'traded_price': 135.97,\n",
    "                    'qty': 400,\n",
    "                    'limit_price': None})  # NULL columns can be passed as None,\n",
    "                                           # or simply be left out.\n",
    "\n",
    "            # We recommend flushing periodically, for example every few seconds.\n",
    "            # If you don't flush explicitly, the client will flush automatically\n",
    "            # once the buffer is reaches 63KiB and just before the connection\n",
    "            # is closed.\n",
    "            sender.flush()\n",
    "\n",
    "    except IngressError as e:\n",
    "        sys.stderr.write(f'Got error: {e}\\n')\n",
    "\n",
    "\n",
    "if __name__ == '__main__':\n",
    "    example()"
   ]
  }
 ],
 "metadata": {
  "kernelspec": {
   "display_name": "Python 3.10.6 ('monpoly')",
   "language": "python",
   "name": "python3"
  },
  "language_info": {
   "codemirror_mode": {
    "name": "ipython",
    "version": 3
   },
   "file_extension": ".py",
   "mimetype": "text/x-python",
   "name": "python",
   "nbconvert_exporter": "python",
   "pygments_lexer": "ipython3",
   "version": "3.10.6"
  },
  "orig_nbformat": 4,
  "vscode": {
   "interpreter": {
    "hash": "ae9b8758a155686fbad77da8890543476bc6d908418f19364000fa6d50321a2a"
   }
  }
 },
 "nbformat": 4,
 "nbformat_minor": 2
}
