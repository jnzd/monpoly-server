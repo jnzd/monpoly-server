{
 "cells": [
  {
   "cell_type": "code",
   "execution_count": 2,
   "metadata": {},
   "outputs": [
    {
     "name": "stdout",
     "output_type": "stream",
     "text": [
      "(datetime.datetime(2022, 10, 3, 11, 34, 28, 36207), datetime.datetime(2022, 10, 3, 0, 0), 'python example', 0)\n",
      "(datetime.datetime(2022, 10, 3, 11, 34, 28, 65656), datetime.datetime(2022, 10, 3, 0, 0), 'python example', 1)\n",
      "(datetime.datetime(2022, 10, 3, 11, 34, 28, 74807), datetime.datetime(2022, 10, 3, 0, 0), 'python example', 2)\n",
      "(datetime.datetime(2022, 10, 3, 11, 34, 28, 78546), datetime.datetime(2022, 10, 3, 0, 0), 'python example', 3)\n",
      "(datetime.datetime(2022, 10, 3, 11, 34, 28, 82548), datetime.datetime(2022, 10, 3, 0, 0), 'python example', 4)\n",
      "(datetime.datetime(2022, 10, 3, 11, 34, 28, 86467), datetime.datetime(2022, 10, 3, 0, 0), 'python example', 5)\n",
      "(datetime.datetime(2022, 10, 3, 11, 34, 28, 90840), datetime.datetime(2022, 10, 3, 0, 0), 'python example', 6)\n",
      "(datetime.datetime(2022, 10, 3, 11, 34, 28, 95003), datetime.datetime(2022, 10, 3, 0, 0), 'python example', 7)\n",
      "(datetime.datetime(2022, 10, 3, 11, 34, 28, 95506), datetime.datetime(2022, 10, 3, 0, 0), 'python example', 8)\n",
      "(datetime.datetime(2022, 10, 3, 11, 34, 28, 100889), datetime.datetime(2022, 10, 3, 0, 0), 'python example', 9)\n",
      "(datetime.datetime(2022, 10, 3, 11, 34, 39, 410315), datetime.datetime(2022, 10, 3, 0, 0), 'python example', 0)\n",
      "(datetime.datetime(2022, 10, 3, 11, 34, 39, 410315), datetime.datetime(2022, 10, 3, 0, 0), 'python example', 1)\n",
      "(datetime.datetime(2022, 10, 3, 11, 34, 39, 418396), datetime.datetime(2022, 10, 3, 0, 0), 'python example', 2)\n",
      "(datetime.datetime(2022, 10, 3, 11, 34, 39, 418396), datetime.datetime(2022, 10, 3, 0, 0), 'python example', 3)\n",
      "(datetime.datetime(2022, 10, 3, 11, 34, 39, 418396), datetime.datetime(2022, 10, 3, 0, 0), 'python example', 4)\n",
      "(datetime.datetime(2022, 10, 3, 11, 34, 39, 428496), datetime.datetime(2022, 10, 3, 0, 0), 'python example', 5)\n",
      "(datetime.datetime(2022, 10, 3, 11, 34, 39, 433777), datetime.datetime(2022, 10, 3, 0, 0), 'python example', 6)\n",
      "(datetime.datetime(2022, 10, 3, 11, 34, 39, 438069), datetime.datetime(2022, 10, 3, 0, 0), 'python example', 7)\n",
      "(datetime.datetime(2022, 10, 3, 11, 34, 39, 438532), datetime.datetime(2022, 10, 3, 0, 0), 'python example', 8)\n",
      "(datetime.datetime(2022, 10, 3, 11, 34, 39, 438532), datetime.datetime(2022, 10, 3, 0, 0), 'python example', 9)\n",
      "Postgres connection is closed.\n"
     ]
    }
   ],
   "source": [
    "import psycopg2 as pg\n",
    "import datetime as dt\n",
    "\n",
    "connection = None\n",
    "cursor = None\n",
    "try:\n",
    "    connection = pg.connect(\n",
    "        user='admin',\n",
    "        password='quest',\n",
    "        host='127.0.0.1',\n",
    "        port='8812',\n",
    "        database='qdb',\n",
    "        gssencmode='disable',\n",
    "        sslmode='disable')\n",
    "    cursor = connection.cursor()\n",
    "\n",
    "    # text-only query\n",
    "    cursor.execute('''CREATE TABLE IF NOT EXISTS trades (\n",
    "        ts TIMESTAMP, date DATE, name STRING, value INT)\n",
    "        timestamp(ts);''')\n",
    "\n",
    "    # insert 10 records\n",
    "    for x in range(10):\n",
    "        now = dt.datetime.utcnow()\n",
    "        date = dt.datetime.now().date()\n",
    "        cursor.execute('''\n",
    "            INSERT INTO trades\n",
    "            VALUES (%s, %s, %s, %s);\n",
    "            ''',\n",
    "            (now, date, 'python example', x))\n",
    "\n",
    "    # commit records\n",
    "    connection.commit()\n",
    "\n",
    "    cursor.execute('SELECT * FROM trades;')\n",
    "    records = cursor.fetchall()\n",
    "    for row in records:\n",
    "        print(row)\n",
    "\n",
    "finally:\n",
    "    if cursor:\n",
    "        cursor.close()\n",
    "    if connection:\n",
    "        connection.close()\n",
    "    print('Postgres connection is closed.')"
   ]
  }
 ],
 "metadata": {
  "kernelspec": {
   "display_name": "Python 3.10.6 ('monpoly')",
   "language": "python",
   "name": "python3"
  },
  "language_info": {
   "codemirror_mode": {
    "name": "ipython",
    "version": 3
   },
   "file_extension": ".py",
   "mimetype": "text/x-python",
   "name": "python",
   "nbconvert_exporter": "python",
   "pygments_lexer": "ipython3",
   "version": "3.10.6"
  },
  "orig_nbformat": 4,
  "vscode": {
   "interpreter": {
    "hash": "ae9b8758a155686fbad77da8890543476bc6d908418f19364000fa6d50321a2a"
   }
  }
 },
 "nbformat": 4,
 "nbformat_minor": 2
}
