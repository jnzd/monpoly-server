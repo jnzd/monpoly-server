{
 "cells": [
  {
   "cell_type": "code",
   "execution_count": 4,
   "metadata": {},
   "outputs": [],
   "source": [
    "import psycopg2 as pg\n",
    "import datetime as dt\n",
    "\n",
    "connection = None\n",
    "cursor = None\n",
    "try:\n",
    "    connection = pg.connect(\n",
    "        user='admin',\n",
    "        password='quest',\n",
    "        host='127.0.0.1',\n",
    "        port='8812',\n",
    "        database='qdb')\n",
    "    cursor = connection.cursor()\n",
    "\n",
    "    # text-only query\n",
    "    cursor.execute('''CREATE TABLE IF NOT EXISTS trades (\n",
    "        ts TIMESTAMP, date DATE, name STRING, value INT)\n",
    "        timestamp(ts);''')\n",
    "\n",
    "    # insert 10 records\n",
    "    for x in range(10):\n",
    "        now = dt.datetime.utcnow()\n",
    "        date = dt.datetime.now().date()\n",
    "        cursor.execute('''\n",
    "            INSERT INTO trades\n",
    "            VALUES (%s, %s, %s, %s);\n",
    "            ''',\n",
    "            (now, date, 'python example', x))\n",
    "\n",
    "    # commit records\n",
    "    connection.commit()\n",
    "\n",
    "    cursor.execute('SELECT * FROM trades;')\n",
    "    records = cursor.fetchall()\n",
    "    for row in records:\n",
    "        print(row)\n",
    "\n",
    "finally:\n",
    "    if cursor:\n",
    "        cursor.close()\n",
    "    if connection:\n",
    "        connection.close()\n",
    "    print('Postgres connection is closed.')"
   ]
  }
 ],
 "metadata": {
  "kernelspec": {
   "display_name": "Python 3.10.7 64-bit",
   "language": "python",
   "name": "python3"
  },
  "language_info": {
   "codemirror_mode": {
    "name": "ipython",
    "version": 3
   },
   "file_extension": ".py",
   "mimetype": "text/x-python",
   "name": "python",
   "nbconvert_exporter": "python",
   "pygments_lexer": "ipython3",
   "version": "3.10.7"
  },
  "orig_nbformat": 4,
  "vscode": {
   "interpreter": {
    "hash": "369f2c481f4da34e4445cda3fffd2e751bd1c4d706f27375911949ba6bb62e1c"
   }
  }
 },
 "nbformat": 4,
 "nbformat_minor": 2
}
